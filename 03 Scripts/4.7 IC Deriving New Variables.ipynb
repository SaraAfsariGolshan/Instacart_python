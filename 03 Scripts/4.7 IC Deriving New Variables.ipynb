{
 "cells": [
  {
   "cell_type": "markdown",
   "id": "af5cc7d8-01a8-4f54-9ec0-2e9a1ad46b3d",
   "metadata": {
    "tags": []
   },
   "source": [
    "## Import Libraries"
   ]
  },
  {
   "cell_type": "code",
   "execution_count": 7,
   "id": "e93fcc93-7ada-46ca-891d-e781332e0e5d",
   "metadata": {},
   "outputs": [],
   "source": [
    "import pandas as pd\n",
    "import numpy as np\n",
    "import os"
   ]
  },
  {
   "cell_type": "markdown",
   "id": "b64cc02e-d0aa-4d15-bbdc-15c86bc15eca",
   "metadata": {
    "tags": []
   },
   "source": [
    "## Import ords_prods_merged"
   ]
  },
  {
   "cell_type": "code",
   "execution_count": 5,
   "id": "1f4a6ce6-aecc-41c4-b2ad-6633c3691337",
   "metadata": {},
   "outputs": [],
   "source": [
    "path = r'C:\\Users\\justi\\OneDrive\\Documents\\Career foundry\\Data Immersion 4'"
   ]
  },
  {
   "cell_type": "code",
   "execution_count": 8,
   "id": "6b81fb4c-9648-4e31-87b7-c83eb8d3900d",
   "metadata": {},
   "outputs": [],
   "source": [
    "ords_prods_merged = pd.read_pickle(os.path.join(path, '02 Data', 'Prepared Data', 'orders_products_merged.pkl'))                                            "
   ]
  },
  {
   "cell_type": "code",
   "execution_count": 9,
   "id": "2df744cb-cd4f-44c7-9414-90cdc1521f6e",
   "metadata": {},
   "outputs": [],
   "source": [
    "df = ords_prods_merged[:1000000]"
   ]
  },
  {
   "cell_type": "code",
   "execution_count": 10,
   "id": "c28c7e7b-9213-4874-b1e9-fbc7720cd347",
   "metadata": {},
   "outputs": [
    {
     "data": {
      "text/plain": [
       "(1000000, 14)"
      ]
     },
     "execution_count": 10,
     "metadata": {},
     "output_type": "execute_result"
    }
   ],
   "source": [
    "df.shape"
   ]
  },
  {
   "cell_type": "markdown",
   "id": "15652b66-c1b1-474b-9171-de059efe596c",
   "metadata": {
    "tags": []
   },
   "source": [
    "## Create price_label and busiest_day"
   ]
  },
  {
   "cell_type": "code",
   "execution_count": 11,
   "id": "6511fba7-9a3e-4f9d-918e-1f74c76def27",
   "metadata": {},
   "outputs": [],
   "source": [
    "ords_prods_merged.loc[ords_prods_merged['prices'] > 15, 'price_range_loc'] = 'High-range product'"
   ]
  },
  {
   "cell_type": "code",
   "execution_count": 13,
   "id": "b17c042c-b3df-4a75-a26d-0debd0bdfa3c",
   "metadata": {},
   "outputs": [],
   "source": [
    "ords_prods_merged.loc[(ords_prods_merged['prices'] <= 15) & (df['prices'] > 5), 'price_range_loc'] = 'Mid-range product' "
   ]
  },
  {
   "cell_type": "code",
   "execution_count": 14,
   "id": "87518afa-1b99-4c23-a9bd-488547c8ba5f",
   "metadata": {},
   "outputs": [],
   "source": [
    "ords_prods_merged.loc[ords_prods_merged['prices'] <= 5, 'price_range_loc'] = 'Low-range product'"
   ]
  },
  {
   "cell_type": "code",
   "execution_count": 15,
   "id": "7396e5a9-2573-41dc-a63e-05400de78c99",
   "metadata": {},
   "outputs": [
    {
     "data": {
      "text/plain": [
       "NaN                   21104410\n",
       "Low-range product     10126321\n",
       "Mid-range product       756450\n",
       "High-range product      417678\n",
       "Name: price_range_loc, dtype: int64"
      ]
     },
     "execution_count": 15,
     "metadata": {},
     "output_type": "execute_result"
    }
   ],
   "source": [
    "ords_prods_merged['price_range_loc'].value_counts(dropna = False)"
   ]
  },
  {
   "cell_type": "code",
   "execution_count": 16,
   "id": "bee8df51-e263-4540-b93c-03a7e52fb26b",
   "metadata": {},
   "outputs": [
    {
     "data": {
      "text/plain": [
       "0    6204182\n",
       "1    5660230\n",
       "6    4496490\n",
       "2    4213830\n",
       "5    4205791\n",
       "3    3840534\n",
       "4    3783802\n",
       "Name: orders_day_of_week, dtype: int64"
      ]
     },
     "execution_count": 16,
     "metadata": {},
     "output_type": "execute_result"
    }
   ],
   "source": [
    "ords_prods_merged['orders_day_of_week'].value_counts(dropna = False)"
   ]
  },
  {
   "cell_type": "code",
   "execution_count": 17,
   "id": "f2079b90-c92c-4b03-a372-d06ad594ce05",
   "metadata": {},
   "outputs": [],
   "source": [
    "result = []\n",
    "\n",
    "for value in ords_prods_merged[\"orders_day_of_week\"]:\n",
    "  if value == 0:\n",
    "    result.append(\"Busiest day\")\n",
    "  elif value == 4:\n",
    "    result.append(\"Least busy\")\n",
    "  else:\n",
    "    result.append(\"Regularly busy\")"
   ]
  },
  {
   "cell_type": "code",
   "execution_count": 18,
   "id": "5128f745-15a2-404b-9d95-07ce9eb3fd4d",
   "metadata": {},
   "outputs": [],
   "source": [
    "ords_prods_merged['busiest_day'] = result"
   ]
  },
  {
   "cell_type": "code",
   "execution_count": 19,
   "id": "b2a07f8e-1ebd-4429-b9b4-dc12be541c26",
   "metadata": {},
   "outputs": [
    {
     "data": {
      "text/plain": [
       "Regularly busy    22416875\n",
       "Busiest day        6204182\n",
       "Least busy         3783802\n",
       "Name: busiest_day, dtype: int64"
      ]
     },
     "execution_count": 19,
     "metadata": {},
     "output_type": "execute_result"
    }
   ],
   "source": [
    "ords_prods_merged['busiest_day'].value_counts(dropna = False)"
   ]
  },
  {
   "cell_type": "markdown",
   "id": "187b3cd7-04f9-4902-a718-723d3dbe5bbd",
   "metadata": {
    "tags": []
   },
   "source": [
    "# Task 2 and 3"
   ]
  },
  {
   "cell_type": "code",
   "execution_count": 20,
   "id": "fca392da-da4b-47b5-8a26-bdfc07866253",
   "metadata": {},
   "outputs": [],
   "source": [
    "result_p = []\n",
    "\n",
    "for value in ords_prods_merged['orders_day_of_week']:\n",
    "    if value <= 1:\n",
    "        result_p.append('Busiest days')\n",
    "    elif value == 3 or value ==4:\n",
    "        result_p.append('Least busy days')\n",
    "    else:\n",
    "        result_p.append('Regularly busy')"
   ]
  },
  {
   "cell_type": "code",
   "execution_count": 21,
   "id": "329872db-0da7-4cd9-8f19-9affe78f50f2",
   "metadata": {},
   "outputs": [],
   "source": [
    "ords_prods_merged['busiest_days'] = result_p"
   ]
  },
  {
   "cell_type": "code",
   "execution_count": 22,
   "id": "b5a7f53d-5ffe-437d-9d30-28e2cce176d9",
   "metadata": {},
   "outputs": [
    {
     "data": {
      "text/plain": [
       "Regularly busy     12916111\n",
       "Busiest days       11864412\n",
       "Least busy days     7624336\n",
       "Name: busiest_days, dtype: int64"
      ]
     },
     "execution_count": 22,
     "metadata": {},
     "output_type": "execute_result"
    }
   ],
   "source": [
    "ords_prods_merged['busiest_days'].value_counts(dropna = False)"
   ]
  },
  {
   "cell_type": "markdown",
   "id": "945ce200-f51f-41b7-aaaf-10d296f0fd35",
   "metadata": {},
   "source": [
    "### When adding both sets (busiest_day and busiest_days) we get the same number confirming the second loop executed correctly"
   ]
  },
  {
   "cell_type": "markdown",
   "id": "d890a5cc-a200-4509-ae42-abe330258100",
   "metadata": {
    "tags": []
   },
   "source": [
    "# Task 4"
   ]
  },
  {
   "cell_type": "code",
   "execution_count": 23,
   "id": "ae30f622-32f9-49c1-86bb-b91dbbf3d259",
   "metadata": {},
   "outputs": [
    {
     "data": {
      "text/plain": [
       "10    2761760\n",
       "11    2736140\n",
       "14    2689136\n",
       "15    2662144\n",
       "13    2660954\n",
       "12    2618532\n",
       "16    2535202\n",
       "9     2454203\n",
       "17    2087654\n",
       "8     1718118\n",
       "18    1636502\n",
       "19    1258305\n",
       "20     976156\n",
       "7      891054\n",
       "21     795637\n",
       "22     634225\n",
       "23     402316\n",
       "6      290493\n",
       "0      218769\n",
       "1      115700\n",
       "5       87961\n",
       "2       69375\n",
       "4       53242\n",
       "3       51281\n",
       "Name: order_hour_of_day, dtype: int64"
      ]
     },
     "execution_count": 23,
     "metadata": {},
     "output_type": "execute_result"
    }
   ],
   "source": [
    "ords_prods_merged['order_hour_of_day'].value_counts(dropna = False)"
   ]
  },
  {
   "cell_type": "code",
   "execution_count": 24,
   "id": "e23912a1-3e62-422d-a8db-5c2372b21081",
   "metadata": {},
   "outputs": [],
   "source": [
    "result_h = []\n",
    "\n",
    "for value in ords_prods_merged['order_hour_of_day']:\n",
    "    if value >= 9:\n",
    "        result_h.append('Most orders')\n",
    "    elif value >= 17 and value <= 22 or value == 7 or value == 8:\n",
    "        result_h.append('Average orders')\n",
    "    else:\n",
    "        result_h.append('Fewest orders')"
   ]
  },
  {
   "cell_type": "code",
   "execution_count": 25,
   "id": "31943948-39c4-45bf-8f96-be61504f3abe",
   "metadata": {},
   "outputs": [],
   "source": [
    "ords_prods_merged['busiest_hours'] = result_h"
   ]
  },
  {
   "cell_type": "code",
   "execution_count": 26,
   "id": "a627845c-1a27-4608-b676-8d95e8f7fd40",
   "metadata": {},
   "outputs": [
    {
     "data": {
      "text/plain": [
       "Most orders       28908866\n",
       "Average orders     2609172\n",
       "Fewest orders       886821\n",
       "Name: busiest_hours, dtype: int64"
      ]
     },
     "execution_count": 26,
     "metadata": {},
     "output_type": "execute_result"
    }
   ],
   "source": [
    "ords_prods_merged['busiest_hours'].value_counts(dropna = False)"
   ]
  },
  {
   "cell_type": "markdown",
   "id": "69055c65-e87f-41f4-b5ba-8db6c74e24e0",
   "metadata": {},
   "source": [
    "## Export ords_prods_merged"
   ]
  },
  {
   "cell_type": "code",
   "execution_count": 27,
   "id": "55c34b3f-0fc1-4850-9a1a-1b1841429b5d",
   "metadata": {},
   "outputs": [],
   "source": [
    "ords_prods_merged.to_pickle(os.path.join(path, '02 Data', 'Prepared Data', 'orders_products_merged_updated.pkl'))"
   ]
  },
  {
   "cell_type": "code",
   "execution_count": null,
   "id": "95d94536-b807-42d7-81d7-1c14269a73ff",
   "metadata": {},
   "outputs": [],
   "source": []
  }
 ],
 "metadata": {
  "kernelspec": {
   "display_name": "Python 3 (ipykernel)",
   "language": "python",
   "name": "python3"
  },
  "language_info": {
   "codemirror_mode": {
    "name": "ipython",
    "version": 3
   },
   "file_extension": ".py",
   "mimetype": "text/x-python",
   "name": "python",
   "nbconvert_exporter": "python",
   "pygments_lexer": "ipython3",
   "version": "3.10.9"
  }
 },
 "nbformat": 4,
 "nbformat_minor": 5
}
